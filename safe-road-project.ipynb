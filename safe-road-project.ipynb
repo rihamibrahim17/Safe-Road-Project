{
 "cells": [
  {
   "cell_type": "code",
   "execution_count": 1,
   "id": "fff080ca",
   "metadata": {
    "_cell_guid": "b1076dfc-b9ad-4769-8c92-a6c4dae69d19",
    "_uuid": "8f2839f25d086af736a60e9eeb907d3b93b6e0e5",
    "execution": {
     "iopub.execute_input": "2024-04-27T21:21:11.567728Z",
     "iopub.status.busy": "2024-04-27T21:21:11.566961Z",
     "iopub.status.idle": "2024-04-27T21:21:12.617424Z",
     "shell.execute_reply": "2024-04-27T21:21:12.615783Z"
    },
    "papermill": {
     "duration": 1.058529,
     "end_time": "2024-04-27T21:21:12.620588",
     "exception": false,
     "start_time": "2024-04-27T21:21:11.562059",
     "status": "completed"
    },
    "tags": []
   },
   "outputs": [],
   "source": [
    "# This Python 3 environment comes with many helpful analytics libraries installed\n",
    "# It is defined by the kaggle/python Docker image: https://github.com/kaggle/docker-python\n",
    "# For example, here's several helpful packages to load\n",
    "import numpy as np # linear algebra\n",
    "import pandas as pd # data processing, CSV file I/O (e.g. pd.read_csv)\n",
    "\n",
    "# Input data files are available in the read-only \"../input/\" directory\n",
    "# For example, running this (by clicking run or pressing Shift+Enter) will list all files under the input directory\n",
    "\n",
    "import os\n",
    "for dirname, _, filenames in os.walk('/kaggle/input'):\n",
    "    for filename in filenames:\n",
    "        print(os.path.join(dirname, filename))\n",
    "\n",
    "# You can write up to 20GB to the current directory (/kaggle/working/) that gets preserved as output when you create a version using \"Save & Run All\" \n",
    "# You can also write temporary files to /kaggle/temp/, but they won't be saved outside of the current session"
   ]
  },
  {
   "cell_type": "code",
   "execution_count": 2,
   "id": "82ffe481",
   "metadata": {
    "execution": {
     "iopub.execute_input": "2024-04-27T21:21:12.627939Z",
     "iopub.status.busy": "2024-04-27T21:21:12.627360Z",
     "iopub.status.idle": "2024-04-27T21:21:12.632644Z",
     "shell.execute_reply": "2024-04-27T21:21:12.631380Z"
    },
    "papermill": {
     "duration": 0.011707,
     "end_time": "2024-04-27T21:21:12.635172",
     "exception": false,
     "start_time": "2024-04-27T21:21:12.623465",
     "status": "completed"
    },
    "tags": []
   },
   "outputs": [],
   "source": [
    "import pandas as pd "
   ]
  },
  {
   "cell_type": "code",
   "execution_count": 3,
   "id": "da421fb8",
   "metadata": {
    "execution": {
     "iopub.execute_input": "2024-04-27T21:21:12.641190Z",
     "iopub.status.busy": "2024-04-27T21:21:12.640786Z",
     "iopub.status.idle": "2024-04-27T21:21:12.896096Z",
     "shell.execute_reply": "2024-04-27T21:21:12.894964Z"
    },
    "papermill": {
     "duration": 0.262411,
     "end_time": "2024-04-27T21:21:12.899789",
     "exception": false,
     "start_time": "2024-04-27T21:21:12.637378",
     "status": "completed"
    },
    "tags": []
   },
   "outputs": [],
   "source": [
    "import cv2\n",
    "import matplotlib.pyplot as plt\n"
   ]
  },
  {
   "cell_type": "code",
   "execution_count": null,
   "id": "f65c62c7",
   "metadata": {
    "papermill": {
     "duration": 0.001833,
     "end_time": "2024-04-27T21:21:12.904123",
     "exception": false,
     "start_time": "2024-04-27T21:21:12.902290",
     "status": "completed"
    },
    "tags": []
   },
   "outputs": [],
   "source": []
  }
 ],
 "metadata": {
  "kaggle": {
   "accelerator": "none",
   "dataSources": [],
   "dockerImageVersionId": 30698,
   "isGpuEnabled": false,
   "isInternetEnabled": true,
   "language": "python",
   "sourceType": "notebook"
  },
  "kernelspec": {
   "display_name": "Python 3",
   "language": "python",
   "name": "python3"
  },
  "language_info": {
   "codemirror_mode": {
    "name": "ipython",
    "version": 3
   },
   "file_extension": ".py",
   "mimetype": "text/x-python",
   "name": "python",
   "nbconvert_exporter": "python",
   "pygments_lexer": "ipython3",
   "version": "3.10.13"
  },
  "papermill": {
   "default_parameters": {},
   "duration": 4.844764,
   "end_time": "2024-04-27T21:21:13.427223",
   "environment_variables": {},
   "exception": null,
   "input_path": "__notebook__.ipynb",
   "output_path": "__notebook__.ipynb",
   "parameters": {},
   "start_time": "2024-04-27T21:21:08.582459",
   "version": "2.5.0"
  }
 },
 "nbformat": 4,
 "nbformat_minor": 5
}
