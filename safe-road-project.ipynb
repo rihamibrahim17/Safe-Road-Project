{
 "cells": [
  {
   "cell_type": "code",
   "execution_count": 1,
   "id": "0b1a74ee",
   "metadata": {
    "_cell_guid": "b1076dfc-b9ad-4769-8c92-a6c4dae69d19",
    "_uuid": "8f2839f25d086af736a60e9eeb907d3b93b6e0e5",
    "execution": {
     "iopub.execute_input": "2024-04-27T21:31:19.393344Z",
     "iopub.status.busy": "2024-04-27T21:31:19.392863Z",
     "iopub.status.idle": "2024-04-27T21:31:20.387890Z",
     "shell.execute_reply": "2024-04-27T21:31:20.386733Z"
    },
    "papermill": {
     "duration": 1.00247,
     "end_time": "2024-04-27T21:31:20.390748",
     "exception": false,
     "start_time": "2024-04-27T21:31:19.388278",
     "status": "completed"
    },
    "tags": []
   },
   "outputs": [
    {
     "name": "stdout",
     "output_type": "stream",
     "text": [
      "/kaggle/input/safe-road/dft-road-casualty-statistics-vehicle-2022.csv\n",
      "/kaggle/input/safe-road/dft-road-casualty-statistics-casualty-2022.csv\n",
      "/kaggle/input/safe-road/accidents.csv\n"
     ]
    }
   ],
   "source": [
    "# This Python 3 environment comes with many helpful analytics libraries installed\n",
    "# It is defined by the kaggle/python Docker image: https://github.com/kaggle/docker-python\n",
    "# For example, here's several helpful packages to load\n",
    "\n",
    "import numpy as np # linear algebra\n",
    "import pandas as pd # data processing, CSV file I/O (e.g. pd.read_csv)\n",
    "\n",
    "# Input data files are available in the read-only \"../input/\" directory\n",
    "# For example, running this (by clicking run or pressing Shift+Enter) will list all files under the input directory\n",
    "\n",
    "import os\n",
    "for dirname, _, filenames in os.walk('/kaggle/input'):\n",
    "    for filename in filenames:\n",
    "        print(os.path.join(dirname, filename))\n",
    "\n",
    "# You can write up to 20GB to the current directory (/kaggle/working/) that gets preserved as output when you create a version using \"Save & Run All\" \n",
    "# You can also write temporary files to /kaggle/temp/, but they won't be saved outside of the current session"
   ]
  },
  {
   "cell_type": "code",
   "execution_count": null,
   "id": "10c2d086",
   "metadata": {
    "papermill": {
     "duration": 0.00207,
     "end_time": "2024-04-27T21:31:20.395267",
     "exception": false,
     "start_time": "2024-04-27T21:31:20.393197",
     "status": "completed"
    },
    "tags": []
   },
   "outputs": [],
   "source": []
  },
  {
   "cell_type": "code",
   "execution_count": null,
   "id": "65a4a7e0",
   "metadata": {
    "papermill": {
     "duration": 0.001792,
     "end_time": "2024-04-27T21:31:20.399123",
     "exception": false,
     "start_time": "2024-04-27T21:31:20.397331",
     "status": "completed"
    },
    "tags": []
   },
   "outputs": [],
   "source": []
  }
 ],
 "metadata": {
  "kaggle": {
   "accelerator": "none",
   "dataSources": [
    {
     "datasetId": 4893814,
     "sourceId": 8248282,
     "sourceType": "datasetVersion"
    }
   ],
   "dockerImageVersionId": 30698,
   "isGpuEnabled": false,
   "isInternetEnabled": true,
   "language": "python",
   "sourceType": "notebook"
  },
  "kernelspec": {
   "display_name": "Python 3",
   "language": "python",
   "name": "python3"
  },
  "language_info": {
   "codemirror_mode": {
    "name": "ipython",
    "version": 3
   },
   "file_extension": ".py",
   "mimetype": "text/x-python",
   "name": "python",
   "nbconvert_exporter": "python",
   "pygments_lexer": "ipython3",
   "version": "3.10.13"
  },
  "papermill": {
   "default_parameters": {},
   "duration": 4.762941,
   "end_time": "2024-04-27T21:31:20.922835",
   "environment_variables": {},
   "exception": null,
   "input_path": "__notebook__.ipynb",
   "output_path": "__notebook__.ipynb",
   "parameters": {},
   "start_time": "2024-04-27T21:31:16.159894",
   "version": "2.5.0"
  }
 },
 "nbformat": 4,
 "nbformat_minor": 5
}
